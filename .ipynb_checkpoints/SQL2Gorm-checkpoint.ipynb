{
 "cells": [
  {
   "cell_type": "code",
   "execution_count": 39,
   "id": "b465787b-758b-44d4-bac9-207ebd9919bd",
   "metadata": {},
   "outputs": [],
   "source": [
    "def to_camel_case(snake_str):\n",
    "    components = snake_str.split('_')\n",
    "    # We capitalize the first letter of each component except the first one\n",
    "    # with the 'title' method and join them together.\n",
    "    return components[0] + ''.join(x.title() for x in components[1:])"
   ]
  },
  {
   "cell_type": "code",
   "execution_count": 66,
   "id": "556c41c9-e835-4ca7-9f7a-3d6476921a43",
   "metadata": {},
   "outputs": [
    {
     "name": "stdout",
     "output_type": "stream",
     "text": [
      "\n",
      "\n",
      "CREATE TABLE tls210_appln_n_cls (\n",
      "\n",
      "json:\"applnId\" gorm:\"column:appln_id;type:integer;default:0;not null\"\n",
      "json:\"natClassSymbol\" gorm:\"column:nat_class_symbol;type:varchar(15);default:'';not null\"\n",
      ");                       \n",
      "\n",
      "\n"
     ]
    }
   ],
   "source": [
    "import re\n",
    "import io\n",
    "\n",
    "def transform(sql : str) -> str :\n",
    "    \n",
    "    res_sql = \"\"\n",
    "    \n",
    "    for line in io.StringIO(sql): \n",
    "        match_type = re.search(\" *([a-z_]{3,99}) ([a-z()0-9]{4,99}) (DEFAULT [A-Za-z0-9'-]{1,99})? ?(NOT NULL)\", line)\n",
    "        if match_type is not None:\n",
    "            \n",
    "            default = \"\"\n",
    "            if match_type.group(3) is not None:\n",
    "                default = match_type.group(3).replace(\"DEFAULT \", \"default:\") + \";\"\n",
    "            \n",
    "            line = \"json:\\\"\"+to_camel_case(match_type.group(1))+\"\\\" gorm:\\\"column:\" + match_type.group(1)+ \";type:\" + match_type.group(2) +\";\"+ default + match_type.group(4).replace(\"NOT NULL\", \"not null\\\"\")\n",
    "            \n",
    "        res_sql = res_sql + line + \"\\n\"\n",
    "    \n",
    "    return res_sql\n",
    "    \n",
    "\n",
    "    \n",
    "test1 = \"\"\"\n",
    "CREATE TABLE tls210_appln_n_cls (\n",
    "    appln_id integer DEFAULT 0 NOT NULL,\n",
    "    nat_class_symbol varchar(15) DEFAULT '' NOT NULL\n",
    ");                       \n",
    "\"\"\"\n",
    "\n",
    "print(transform(test1))"
   ]
  },
  {
   "cell_type": "code",
   "execution_count": null,
   "id": "33d66416-d38f-4be3-bf38-f4fb0c22fd6d",
   "metadata": {},
   "outputs": [],
   "source": []
  },
  {
   "cell_type": "code",
   "execution_count": null,
   "id": "a880cb93-7e85-4449-858f-4c57be033c06",
   "metadata": {},
   "outputs": [],
   "source": []
  }
 ],
 "metadata": {
  "kernelspec": {
   "display_name": "Python 3 (ipykernel)",
   "language": "python",
   "name": "python3"
  },
  "language_info": {
   "codemirror_mode": {
    "name": "ipython",
    "version": 3
   },
   "file_extension": ".py",
   "mimetype": "text/x-python",
   "name": "python",
   "nbconvert_exporter": "python",
   "pygments_lexer": "ipython3",
   "version": "3.7.12"
  }
 },
 "nbformat": 4,
 "nbformat_minor": 5
}
